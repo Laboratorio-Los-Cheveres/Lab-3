{
  "cells": [
    {
      "cell_type": "markdown",
      "metadata": {
        "id": "aiVyYM0UZ9Cg"
      },
      "source": [
        "# **Laboratorio 3: Librerías numéricas y de gráficos, arreglos y matrices y formas cuadráticas**\n",
        "**Facultad de ingeniería, departamento de Ingeniería Biomédica, Universidad de los Andes**\\\n",
        "**IBIO-2440 Programación científica**"
      ]
    },
    {
      "attachments": {},
      "cell_type": "markdown",
      "metadata": {
        "id": "aTJOo3lnar5X"
      },
      "source": [
        "**Nombres de los integrantes**\n",
        "\n",
        "\n",
        "1.   Andrés Prada \n",
        "2.   Alejandro Yepes\n",
        "3.   Milton Mesa\n",
        "\n",
        "**Número del grupo**\n",
        "\n",
        "*Grupo 2*\n"
      ]
    },
    {
      "cell_type": "markdown",
      "metadata": {
        "id": "OambcLreVN_P"
      },
      "source": [
        "Este laboratorio consta de dos partes, la primera asociada al uso de las librerias numéricas y de gráficos (Numpy y Matplotlib), con aplicaciones como las opreaciones con arreglos y matrices y el cálculo de normas de un vector. Luego, está la parte sobre formas cuadráticas, donde se incluyen ahora gráficos tridimensionales, cálculo de valores y vectores propios einterpretaciones geométricas. Se recomienda leer la siguiente información:\n",
        "\n",
        "https://numpy.org/doc/stable/user/basics.html\n",
        "\n",
        "https://matplotlib.org/stable/plot_types/index.html"
      ]
    },
    {
      "cell_type": "markdown",
      "metadata": {
        "id": "9MZHCvebU8e9"
      },
      "source": [
        "# **Módulos y librerías**\n",
        "\n",
        "En el siguiente laboratorio se busca recordar algunas funciones de *Numpy* para realizar diferentes operaciones matemáticas con arreglos, también se busca implementar diferentes tipos de gráficas usando la librería *Matplotlib*. Se explica cómo hacer un plot básico, subplots, barras e histogramas."
      ]
    },
    {
      "cell_type": "markdown",
      "metadata": {
        "id": "1tcfcZzkun_W"
      },
      "source": [
        "Importe las librerías Numpy y Matplotlib"
      ]
    },
    {
      "cell_type": "code",
      "execution_count": 126,
      "metadata": {
        "id": "X_0X1_Mdp5cS"
      },
      "outputs": [],
      "source": [
        "import numpy as np\n",
        "import matplotlib as mt\n",
        "import matplotlib.pyplot as plt\n",
        "import katex"
      ]
    },
    {
      "cell_type": "markdown",
      "metadata": {
        "id": "BVimcKkFtKJo"
      },
      "source": [
        "1.\tEscriba una función que multiplique todos los números de un arreglo. Luego pruebela con ejemplo."
      ]
    },
    {
      "cell_type": "code",
      "execution_count": 76,
      "metadata": {
        "id": "vmN6MzXztPwn"
      },
      "outputs": [
        {
          "name": "stdout",
          "output_type": "stream",
          "text": [
            "Arreglo 1: \n",
            "\n",
            " [[0 5 3 3 2 3]\n",
            " [1 5 2 2 5 1]\n",
            " [0 3 3 4 0 5]\n",
            " [1 3 0 0 0 0]\n",
            " [4 4 2 5 5 2]\n",
            " [4 1 1 0 0 4]] \n",
            "\n",
            "\n",
            "Arreglo 2: \n",
            "\n",
            " [[5 1 2 1 4 4]\n",
            " [1 0 1 1 4 1]\n",
            " [1 3 5 2 5 4]\n",
            " [3 3 0 5 4 0]\n",
            " [1 5 5 0 3 1]\n",
            " [2 5 4 0 4 3]] \n",
            "\n",
            "\n",
            "Producto entre ambos arreglos:\n",
            "\n",
            "  [[ 0  5  6  3  8 12]\n",
            " [ 1  0  2  2 20  1]\n",
            " [ 0  9 15  8  0 20]\n",
            " [ 3  9  0  0  0  0]\n",
            " [ 4 20 10  0 15  2]\n",
            " [ 8  5  4  0  0 12]]\n"
          ]
        }
      ],
      "source": [
        "def productoArreglo():\n",
        "    b = int(input(\"ingrese el máximo de los numeros de cada entrada de la matriz: \"))\n",
        "    c = d = int(input(\"Ingrese número de columnas y filas: \"))\n",
        "    matriz1 = np.random.randint(b, size = (c, d))\n",
        "    matriz2 = np.random.randint(b, size = (c, d))\n",
        "    \n",
        "    print(\"Arreglo 1: \\n\\n\", matriz1, \"\\n\\n\")\n",
        "    print(\"Arreglo 2: \\n\\n\", matriz2, \"\\n\\n\")\n",
        "    print(\"Producto entre ambos arreglos:\\n\\n \", np.multiply(matriz1, matriz2))\n",
        "\n",
        "\n",
        "productoArreglo()\n"
      ]
    },
    {
      "cell_type": "markdown",
      "metadata": {
        "id": "kOt40t5atKOZ"
      },
      "source": [
        "2. Escriba una función que calcule el factorial de un número entero positivo. Luego pruebela con ejemplo.\n"
      ]
    },
    {
      "cell_type": "code",
      "execution_count": 85,
      "metadata": {
        "id": "25310HzWtpJ5"
      },
      "outputs": [
        {
          "name": "stdout",
          "output_type": "stream",
          "text": [
            "El valor de 4 factorial es: 24\n"
          ]
        }
      ],
      "source": [
        "def factorial():\n",
        "    x = 0\n",
        "    while x == 0:\n",
        "        num = int(input(\"Ingrese un número entero positivo: \"))\n",
        "        if num < 0:\n",
        "            pass\n",
        "        else:\n",
        "            x = 1\n",
        "    fact = np.math.factorial(num)\n",
        "    print(\"El valor de\", num , \"factorial es:\",fact)\n",
        "factorial()"
      ]
    },
    {
      "cell_type": "markdown",
      "metadata": {
        "id": "2KliC7outgd1"
      },
      "source": [
        "3. Escriba una función que indique si un número entero positivo pertenece a la serie de Fibonacci. Luego pruebela con ejemplo."
      ]
    },
    {
      "cell_type": "code",
      "execution_count": 96,
      "metadata": {
        "id": "ghVToDpPtrlD"
      },
      "outputs": [
        {
          "name": "stdout",
          "output_type": "stream",
          "text": [
            "El número no pertenece a la serie\n"
          ]
        }
      ],
      "source": [
        "def fib():\n",
        "    ent = int(input(\"Ingrese el número enetero positivo a evaluar en la serie: \"))\n",
        "    n = 0\n",
        "    m = 1\n",
        "    z = 0\n",
        "    if n == ent or ent == m:\n",
        "        resp = \"El número pertenece a la serie\"\n",
        "    else:\n",
        "        while z == 0:\n",
        "            if n == ent:\n",
        "                z = 1\n",
        "                resp = \"El número pertenece a la serie\"\n",
        "            if n > ent:\n",
        "                z = 1\n",
        "                resp = \"El número no pertenece a la serie\"\n",
        "            y = n + m\n",
        "            n = m\n",
        "            m = y\n",
        "    print(resp)\n",
        "fib()\n",
        "\n",
        "        "
      ]
    },
    {
      "cell_type": "markdown",
      "metadata": {
        "id": "ox5sancEtzym"
      },
      "source": [
        "4. Usando las funciones de las librerías numpy y matplotlib para Python obtenga 1000 valores aleatorios con distribución uniforme y 1000 valores con una distribución normal. Súmelos y grafique el correspondiente histograma para 10, 20, 30 y 50 particiones (bins). (Utilice subplots e interprete los resultados). *Pista: Para generar los valores use el módulo random de la librería numpy.*"
      ]
    },
    {
      "cell_type": "code",
      "execution_count": 125,
      "metadata": {
        "id": "hI5f-6vqt1GB"
      },
      "outputs": [
        {
          "data": {
            "image/png": "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",
            "text/plain": [
              "<Figure size 640x480 with 1 Axes>"
            ]
          },
          "metadata": {},
          "output_type": "display_data"
        },
        {
          "data": {
            "image/png": "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",
            "text/plain": [
              "<Figure size 640x480 with 1 Axes>"
            ]
          },
          "metadata": {},
          "output_type": "display_data"
        },
        {
          "data": {
            "image/png": "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",
            "text/plain": [
              "<Figure size 640x480 with 1 Axes>"
            ]
          },
          "metadata": {},
          "output_type": "display_data"
        },
        {
          "data": {
            "image/png": "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",
            "text/plain": [
              "<Figure size 640x480 with 1 Axes>"
            ]
          },
          "metadata": {},
          "output_type": "display_data"
        }
      ],
      "source": [
        "def aleatorio():\n",
        "    a = np.random.rand(1000)\n",
        "    b = np.random.randn(1000)\n",
        "    c = a + b\n",
        "    c = list(c)\n",
        "    plt.hist(c, 10)\n",
        "    plt.show()\n",
        "    plt.hist(c, 20)\n",
        "    plt.show()\n",
        "    plt.hist(c, 30)\n",
        "    plt.show()\n",
        "    plt.hist(c, 50)\n",
        "    plt.show()\n",
        "aleatorio()"
      ]
    },
    {
      "cell_type": "markdown",
      "metadata": {
        "id": "d2jtKWq_t-Rt"
      },
      "source": [
        "5. Para un sistema masa-resorte que describe un Movimiento Armónico Simple (m.a.s) como el de la siguiente figura:\n",
        "\n",
        "![Picture1.jpg](data:image/jpeg;base64,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)\n",
        "\n",
        "\n",
        "Zemansky, S. (2013). Movimiento Periódico. In Pearson (Ed.), Física Universitaria (12th \n",
        "ed., pp. 65–71). Pearson. https://doi.org/10.1057/9781137311955_5\n",
        "\n",
        "Grafique el desplazamiento, velocidad y aceleración bajo los parámetros: \n",
        "\n",
        "T = 4s (periodo) \n",
        "t = 8s (duración) \n",
        "A = 5m (amplitud) \n",
        "\n",
        "Recuerde que el desplazamiento está dado por la ecuación:\n",
        "\n",
        "𝑥 = 𝐴  𝑐𝑜𝑠(ω𝑡 + ϕ)\n",
        "\n",
        "Donde x es el desplazamiento en una dimensión, ω es la velocidad angular (rad/seg) y ϕ es la fase inicial. \n",
        "\n",
        "*Pista: Cree un vector de tiempo que vaya desde 0 hasta el tiempo final(t).*"
      ]
    },
    {
      "cell_type": "code",
      "execution_count": null,
      "metadata": {
        "id": "K8xDIeE_uYtL"
      },
      "outputs": [],
      "source": [
          "t = np.arange(0,8.01,0.01)\n",
          "w = (2*np.math.pi)/4\n",

          "des = []\n",
          "for i in range(0, len(t)):\n",
            "x = 5*np.math.cos((w*t[i])+0)\n",
            "des.append(x)\n",
          "vel = []\n",
          "for i in range(0, len(t)):\n",
            "xx = -5*w*np.math.sin((w*t[i])+0)\n",
            "vel.append(xx)\n",
          "ace = []\n",
          "for i in range(0, len(t)):\n",
            "xxx = -5*(w**2)*np.math.cos((w*t[i])+0)\n",
            "ace.append(xxx)\n",

          "fig, axs = plt.subplots(1, 3, figsize=(15, 8), sharey=True)\n",
          "axs[0].plot(t,des)\n",
          "axs[0].set_title("Desplazamiento")\n",
          "axs[1].plot(t,vel)\n",
          "axs[1].set_title("Velocidad")\n",
          "axs[2].plot(t,ace)\n",
          "axs[2].set_title("Aceleración")\n",
      ]
    },
    {
      "attachments": {},
      "cell_type": "markdown",
      "metadata": {
        "id": "Y9I_S_8Buej2"
      },
      "source": [
        "6. Sean A, B y C las siguientes matrices:\n",
        "\n",
        "\n",
        "\n",
        "\\begin{align}\n",
        "A = \\begin{pmatrix}\n",
        "0.1 & 2 \\\\\n",
        "2 & 0.1\n",
        "\\end{pmatrix}\n",
        "\\end{align}\n",
        "\\\n",
        "\\begin{align}\n",
        "B = \\begin{pmatrix}\n",
        "1 & 2 & 3\\\\\n",
        "4 & 5 & 4\n",
        "\\end{pmatrix}\n",
        "\\end{align}   \n",
        "\\begin{align}\n",
        "C = \\begin{pmatrix}\n",
        "5/3 & 2/3 \\\\\n",
        "2/3 & 5/3\n",
        "\\end{pmatrix}\n",
        "\\end{align} \n",
        ">Realice las siguientes operaciones matriciales, donde $∗$ es el producto punto entre dos matrices.\n",
        "\n",
        "\n",
        "\\begin{align}\n",
        "1. \\ A * B\\\\\n",
        "2. \\ A^2 ∗ B\\\\\n",
        "3. \\ C^3 * B\\\\\n",
        "4. \\ C^4 * B^3\\\\\n",
        "\\end{align} \n",
        "\n",
        "\n"
      ]
    },
    {
      "cell_type": "code",
      "execution_count": 142,
      "metadata": {
        "id": "mAY6PEKaz2kX"
      },
      "outputs": [],
      "source": [
        "A = np.array([[0.1, 2], [2, 0.1]])\n",
        "B = np.array([[1, 2, 3], [4, 5, 4]])\n",
        "C = np.array([[5/3, 2/3], [2/3, 5/3]])\n",
        "\n",
        "Op1 = np.dot(A,B)\n",
        "Op2 = np.dot(np.linalg.matrix_power(A, 2), B)\n",
        "Op3 = np.dot(np.linalg.matrix_power(C, 3), B)\n",
        "Op4 = \"No es posible elevar B a la 3 ya pues el número de columnas no es el mismo que el de filas\""
      ]
    },
    {
      "cell_type": "markdown",
      "metadata": {
        "id": "dSJXG2ooJiOR"
      },
      "source": [
        "\n",
        "7. a. Cree una función que tenga como entrada un vector real cualquiera y el parámetro $L$. La función debe calcular la norma $L$ del vector, es decir, si $L=1$, calcula la norma $L1$, mientras que si $L=2$, calcula la $L2$. Además, debe graficar la función que se genera con la norma."
      ]
    },
    {
      "cell_type": "code",
      "execution_count": null,
      "metadata": {
        "id": "v7M3VXsIL1nP"
      },
      "outputs": [],
      "source": []
    },
    {
      "cell_type": "markdown",
      "metadata": {
        "id": "Tu0tGTjuWS9_"
      },
      "source": [
        "b. Use su función anterior para calcular y graficar la norma tanto $L1$ como $L2$ del vector $[5,2]$."
      ]
    },
    {
      "cell_type": "code",
      "execution_count": null,
      "metadata": {
        "id": "Mxth8qbOWcpD"
      },
      "outputs": [],
      "source": []
    },
    {
      "cell_type": "markdown",
      "metadata": {
        "id": "xMU5vxwfTr1B"
      },
      "source": [
        "# **Curvas de nivel, superficies, valores y vectores propios en formas cuadráticas**\n",
        "\n",
        "La optimización es una rama de las matemáticas que busca determinar de forma tanto cuantitativa como cualitativa la mejor manera de solucionar un problema. Cuando se optimiza de forma cuantitativa, el deseo es determinar máximos o mínimos de una función escalar de una o más variables bajo ciertas restricciones. Dicha función puede tomar cualquier forma siempre y cuando cumpla con algunas características como de diferenciación, continuidad, entre otras, sin embargo, una de las formas más trabajadas en el área de la inteligencia artificial es la forma cuadrática. Esta forma se plantea de la siguiente manera:\n",
        "\n",
        "\\begin{align*}\n",
        "f(X)=\\frac{1}{2}X^TQX + B^TX+C\n",
        "\\end{align*}\n",
        "\n",
        "Donde $Q$ es una matriz constante, $B$ un vector constante y $C$ una constante y $X$ es el vector de las variables. Notar que la función $f:\\mathbb{R^n}\\rightarrow\\mathbb{R}$, sin embargo, para poder graficar, se va a trabajar solamente con $f:\\mathbb{R^2}\\rightarrow\\mathbb{R}$. Los algoritmos de optimización tradicionales funcionan bien si la matriz $Q$ cumple ciertas restricciones, por lo que, primemero se trabajará con esta. La idea de esta parte es crear una función que cumpla ciertas característas para al final aplicarla con algunos ejemplos..\n"
      ]
    },
    {
      "cell_type": "markdown",
      "metadata": {
        "id": "QucAa2HaUF6G"
      },
      "source": [
        "1. Genere una función que reciba como entrada una matriz cualquiera $Q$ e imprima un arreglo con lso coeficientes se la siguiente forma cuadrática:\n",
        "\n",
        "  \\begin{align*}\n",
        "   a_1x_1^2 + a_2x_2^2 + a_3x_1x_2 \n",
        "  \\end{align*}\n",
        "\n",
        "2. Agregue la función que permita obtener la forma simétrica de la matriz $Q$, llamada $Q_s$ en caso de que no lo sea, si es simétrica, indicar que ya es simétrica.\n",
        "\n",
        "3. Adicionar la función que permita decir si la matriz $Q$ es positiva definida, negativa definida, positiva semidefinida, negativa semidefinida, o ninguna de las anteriores.\n",
        "\n",
        "4. Si la matriz anterior no es ninguna, entonces el algoritmo debe encontrar la forma simétrica asociada.\n",
        "\n",
        "5. Ahora, el algoritmo debe encontrar la matriz $Λ$, que esl a matriz diagonal de valores propios, la matriz $V$ que es de los vectores propios normnalizados asociados a $Q_s$\n",
        "\n",
        "6. Recordando la teoría de álgebra lineal se sabe que $Q_s=VΛV^T$. Haga que el algoritmo reemplace esta expresión en laforma cuadrática y haga el cambio de variable $V^TX = Y$, para definir la forma cuadrática como $f(Y) = Y^TΛY$.\n",
        "\n",
        "7. El objetivo de lo anterior es darle una interpretación gráfica a la forma cuadrática. Para esto, el agoritmo debe graficar una curva de nivel con un valor cualquiera $c$ para la forma cuadrática con variables $X$ $(f(X) = X^TQX)$ y con variables $Y$ $(f(Y) = Y^T\\Lambda Y)$. Grafique también los valores propios con puntos y los vértices y covértices de la elipse que se genera con rectas en ambas gráficas (excepto en el caso de que $Q$ sea indefinida). También el algoritmo debe indicar los valores numéricos de estos vértices y covértices.\n",
        "\n",
        "8. Adicionalmente, debe graficar una superficie para cada caso, es decir, tanto para $f(X)$ como para $f(Y)$, donde se resalten cinco curvas de nivel. Además, si la $f$ es convexa (Q positiva semidefinida o definida), grafique también el punto mínimo.\n"
      ]
    },
    {
      "cell_type": "code",
      "execution_count": null,
      "metadata": {
        "id": "c1sPbeL_UFX4"
      },
      "outputs": [],
      "source": []
    },
    {
      "cell_type": "markdown",
      "metadata": {
        "id": "7unzc36mXk7v"
      },
      "source": [
        "9. Pruebe su función creada con los siguientes ejemplos:\n",
        "\n",
        "\\begin{align*}\n",
        "  Q_1 = \\begin{pmatrix}\n",
        "3 & 2 \\\\\n",
        "1 & 2\n",
        "\\end{pmatrix}\\\\\n",
        " Q_2 = \\begin{pmatrix}\n",
        "-3 & 1 \\\\\n",
        "-2 & -1\n",
        "\\end{pmatrix}\\\\\n",
        " Q_3 = \\begin{pmatrix}\n",
        "0 & 2 \\\\\n",
        "1 & 0\n",
        "\\end{pmatrix}\\\\\n",
        "\\end{align*}"
      ]
    },
    {
      "cell_type": "code",
      "execution_count": null,
      "metadata": {
        "id": "_1m2AN5gbOrX"
      },
      "outputs": [],
      "source": []
    }
  ],
  "metadata": {
    "colab": {
      "provenance": []
    },
    "kernelspec": {
      "display_name": "Python 3",
      "language": "python",
      "name": "python3"
    },
    "language_info": {
      "codemirror_mode": {
        "name": "ipython",
        "version": 3
      },
      "file_extension": ".py",
      "mimetype": "text/x-python",
      "name": "python",
      "nbconvert_exporter": "python",
      "pygments_lexer": "ipython3",
      "version": "3.10.9"
    },
    "vscode": {
      "interpreter": {
        "hash": "43d9d8c0b73808a0d494d3d8347d2e0ae1d926b0fb64b8f22b4273e7395c5609"
      }
    }
  },
  "nbformat": 4,
  "nbformat_minor": 0
}
